{
 "cells": [
  {
   "cell_type": "markdown",
   "metadata": {},
   "source": [
    "##3.1IPython 기본"
   ]
  },
  {
   "cell_type": "code",
   "execution_count": 2,
   "metadata": {
    "collapsed": false
   },
   "outputs": [],
   "source": [
    "#파이썬은 변수 이름만 입력하면 그 객체에 대한 문자열 표현을 출력한다.\n",
    "a = 5"
   ]
  },
  {
   "cell_type": "code",
   "execution_count": 3,
   "metadata": {
    "collapsed": false
   },
   "outputs": [
    {
     "data": {
      "text/plain": [
       "int"
      ]
     },
     "execution_count": 3,
     "metadata": {},
     "output_type": "execute_result"
    }
   ],
   "source": [
    "type(a)"
   ]
  },
  {
   "cell_type": "code",
   "execution_count": 4,
   "metadata": {
    "collapsed": false
   },
   "outputs": [
    {
     "data": {
      "text/plain": [
       "5"
      ]
     },
     "execution_count": 4,
     "metadata": {},
     "output_type": "execute_result"
    }
   ],
   "source": [
    "#a의 type이 int지만 이름만 입력하면 문자열 표현을 출력\n",
    "a  "
   ]
  },
  {
   "cell_type": "code",
   "execution_count": 5,
   "metadata": {
    "collapsed": false
   },
   "outputs": [],
   "source": [
    "from numpy.random import randn"
   ]
  },
  {
   "cell_type": "code",
   "execution_count": 6,
   "metadata": {
    "collapsed": false
   },
   "outputs": [],
   "source": [
    "data = {i : randn() for i in range(1,10)}"
   ]
  },
  {
   "cell_type": "code",
   "execution_count": 7,
   "metadata": {
    "collapsed": false
   },
   "outputs": [
    {
     "data": {
      "text/plain": [
       "{1: 0.6707167843089158,\n",
       " 2: 0.5615198235320484,\n",
       " 3: -0.3067368855985387,\n",
       " 4: -0.6991657578915332,\n",
       " 5: -0.7542887075626181,\n",
       " 6: -0.3926159880400252,\n",
       " 7: -0.9428790898140368,\n",
       " 8: -0.20180004459883605,\n",
       " 9: -0.4688355540607784}"
      ]
     },
     "execution_count": 7,
     "metadata": {},
     "output_type": "execute_result"
    }
   ],
   "source": [
    "data"
   ]
  },
  {
   "cell_type": "code",
   "execution_count": 8,
   "metadata": {
    "collapsed": false
   },
   "outputs": [
    {
     "name": "stdout",
     "output_type": "stream",
     "text": [
      "{1: 0.6707167843089158, 2: 0.5615198235320484, 3: -0.3067368855985387, 4: -0.6991657578915332, 5: -0.7542887075626181, 6: -0.3926159880400252, 7: -0.9428790898140368, 8: -0.20180004459883605, 9: -0.4688355540607784}\n"
     ]
    }
   ],
   "source": [
    "print data"
   ]
  },
  {
   "cell_type": "markdown",
   "metadata": {},
   "source": [
    "###3.1.1 탭 자동 완성"
   ]
  },
  {
   "cell_type": "markdown",
   "metadata": {},
   "source": [
    "셸에서 입력을 하는 동안 < Tab >을 누르면 네임스페이스에서 그 시점까지 입력한 내용과 맞아떨어지는 변수 (객체,함수 등)를 자동으로 찾아준다."
   ]
  },
  {
   "cell_type": "code",
   "execution_count": 9,
   "metadata": {
    "collapsed": true
   },
   "outputs": [],
   "source": [
    "an_apple = 27"
   ]
  },
  {
   "cell_type": "code",
   "execution_count": 10,
   "metadata": {
    "collapsed": true
   },
   "outputs": [],
   "source": [
    "an_example = 42"
   ]
  },
  {
   "cell_type": "code",
   "execution_count": 11,
   "metadata": {
    "collapsed": true
   },
   "outputs": [],
   "source": [
    "#    an <Tab>       라고 입력하면, 아래와 같은 목록이 생긴다.   \n",
    "#    an_apple      and     an_example    any    \n",
    "#(파이썬 예약언인 and, 내장 함수인 any와 함께 an_apple, an_example  은 정의한 변수도 보여준다)"
   ]
  },
  {
   "cell_type": "markdown",
   "metadata": {},
   "source": [
    " "
   ]
  },
  {
   "cell_type": "markdown",
   "metadata": {},
   "source": [
    "\n",
    "\n",
    "어떤 객체의 메서드나 속성 뒤에 마침표를 입력한 후 자동 완성 기능을 활용할 수도 있다.\n"
   ]
  },
  {
   "cell_type": "code",
   "execution_count": 12,
   "metadata": {
    "collapsed": true
   },
   "outputs": [],
   "source": [
    "b = [1, 2, 3]   "
   ]
  },
  {
   "cell_type": "code",
   "execution_count": 13,
   "metadata": {
    "collapsed": false
   },
   "outputs": [],
   "source": [
    "#    b.<Tab>        을  입력하면 아래와 같은 목록이 생긴다.\n",
    "#    b.append    b.extend    b.insert    b.remove    b.sort    b.count    b.index    b.pop    b.reverse"
   ]
  },
  {
   "cell_type": "markdown",
   "metadata": {},
   "source": [
    "\n"
   ]
  },
  {
   "cell_type": "markdown",
   "metadata": {},
   "source": [
    "탭 자동 완성은  파일 경로에도 사용가능"
   ]
  },
  {
   "cell_type": "code",
   "execution_count": 14,
   "metadata": {
    "collapsed": true
   },
   "outputs": [],
   "source": [
    "#예를들어\n",
    "#Ch<Tab>을 누르면  아래와 같은 목록이 생긴다.\n",
    "#Chapter_2.ipynb     Chapter_3.ipynb"
   ]
  },
  {
   "cell_type": "markdown",
   "metadata": {},
   "source": [
    "\n",
    " "
   ]
  },
  {
   "cell_type": "markdown",
   "metadata": {},
   "source": [
    "###3.1.2 자기관찰"
   ]
  },
  {
   "cell_type": "markdown",
   "metadata": {},
   "source": [
    "변수 이름 앞이나 뒤에 ? 기호를 붙이면 그 객체에 대한 일반 정보를 출력한다"
   ]
  },
  {
   "cell_type": "code",
   "execution_count": 15,
   "metadata": {
    "collapsed": false
   },
   "outputs": [],
   "source": [
    "b?\n",
    "#Type:        list\n",
    "#String form: [1, 2, 3]\n",
    "#Length:      3\n",
    "#Docstring:\n",
    "#list() -> new empty list\n",
    "#list(iterable) -> new list initialized from iterable's items"
   ]
  },
  {
   "cell_type": "markdown",
   "metadata": {},
   "source": [
    " "
   ]
  },
  {
   "cell_type": "markdown",
   "metadata": {},
   "source": [
    "- 객체가 함수거나 인스턴스 메서드라면 정의되어 있는 문서(docstring)를 출력\n",
    "    - docstring은 인터페이스를 설명하기 위해 함수의 첫머리에 두는 문자열입니다(“doc”은 “문서화 documentation”의 줄임 말입니다)."
   ]
  },
  {
   "cell_type": "markdown",
   "metadata": {},
   "source": [
    "-  \"\"\"  는  여러개의 문자열표시, 단일따옴표(')도 사용가능"
   ]
  },
  {
   "cell_type": "code",
   "execution_count": 16,
   "metadata": {
    "collapsed": true
   },
   "outputs": [],
   "source": [
    "def add_numbers(a, b):\n",
    "    \"\"\"\n",
    "    Add two numbers together\n",
    "    \n",
    "    Returns\n",
    "    -------\n",
    "    the_sum: type of arguments\n",
    "    \"\"\"\n",
    "    return a + b;"
   ]
  },
  {
   "cell_type": "code",
   "execution_count": 17,
   "metadata": {
    "collapsed": true
   },
   "outputs": [],
   "source": [
    "add_numbers?\n",
    "#Signature: add_numbers(a, b)\n",
    "#Docstring:\n",
    "#Add two numbers together\n",
    "\n",
    "#Returns\n",
    "#-------\n",
    "#the_sum: type of arguments\n",
    "#File:      ~/python_for_data_analysis/<ipython-input-46-9bb7ab218929>\n",
    "#Type:      function"
   ]
  },
  {
   "cell_type": "markdown",
   "metadata": {},
   "source": [
    "??를 사용하면 함수의 소스코드 출력"
   ]
  },
  {
   "cell_type": "code",
   "execution_count": 18,
   "metadata": {
    "collapsed": false
   },
   "outputs": [],
   "source": [
    "add_numbers??\n",
    "#Signature: add_numbers(a, b)\n",
    "#Source:\n",
    "#def add_numbers(a, b):\n",
    "#    \"\"\"\n",
    "#    Add two numbers together\n",
    "#    \n",
    "#   Returns\n",
    "#   -------\n",
    "#    the_sum: type of arguments\n",
    "#    \"\"\"\n",
    "#    return a + b;\n",
    "#File:      ~/python_for_data_analysis/<ipython-input-46-9bb7ab218929>\n",
    "#Type:      function"
   ]
  },
  {
   "cell_type": "code",
   "execution_count": 19,
   "metadata": {
    "collapsed": false
   },
   "outputs": [],
   "source": [
    "import numpy as np"
   ]
  },
  {
   "cell_type": "code",
   "execution_count": 20,
   "metadata": {
    "collapsed": true
   },
   "outputs": [],
   "source": [
    "np.*load*?\n",
    "#* 기호로 둘러싸인 문자열을 포함하는 모든 이름을 보여준다.\n",
    "#np.load\n",
    "#np.loads\n",
    "#np.loadtxt\n",
    "#np.pkgload"
   ]
  },
  {
   "cell_type": "code",
   "execution_count": 21,
   "metadata": {
    "collapsed": false
   },
   "outputs": [
    {
     "data": {
      "text/plain": [
       "<function numpy.lib.npyio.loadtxt>"
      ]
     },
     "execution_count": 21,
     "metadata": {},
     "output_type": "execute_result"
    }
   ],
   "source": [
    "np.loadtxt"
   ]
  },
  {
   "cell_type": "markdown",
   "metadata": {},
   "source": [
    "###3.1.3 %run 명령어"
   ]
  },
  {
   "cell_type": "markdown",
   "metadata": {},
   "source": [
    "%run 명령어를 사용하면 IPython 세션 안에서 파이썬 프로그램 파일을 불러와 실행할 수 있다."
   ]
  },
  {
   "cell_type": "code",
   "execution_count": 22,
   "metadata": {
    "collapsed": false
   },
   "outputs": [],
   "source": [
    "%run ipython_script_test.py"
   ]
  },
  {
   "cell_type": "code",
   "execution_count": 23,
   "metadata": {
    "collapsed": false,
    "scrolled": true
   },
   "outputs": [
    {
     "data": {
      "text/plain": [
       "7.5"
      ]
     },
     "execution_count": 23,
     "metadata": {},
     "output_type": "execute_result"
    }
   ],
   "source": [
    "c"
   ]
  },
  {
   "cell_type": "code",
   "execution_count": 24,
   "metadata": {
    "collapsed": false
   },
   "outputs": [],
   "source": [
    "%run test.py"
   ]
  },
  {
   "cell_type": "code",
   "execution_count": 25,
   "metadata": {
    "collapsed": false
   },
   "outputs": [
    {
     "data": {
      "text/plain": [
       "5"
      ]
     },
     "execution_count": 25,
     "metadata": {},
     "output_type": "execute_result"
    }
   ],
   "source": [
    "asdff"
   ]
  },
  {
   "cell_type": "markdown",
   "metadata": {},
   "source": [
    "###3.1.4 클립보드에 있는 코드 실행하기"
   ]
  },
  {
   "cell_type": "markdown",
   "metadata": {},
   "source": [
    "클립보드에 있는 내용을 붙여넣을 때는 < Ctrl + Shift + V >를 누른다."
   ]
  },
  {
   "cell_type": "code",
   "execution_count": 26,
   "metadata": {
    "collapsed": true
   },
   "outputs": [],
   "source": [
    "    x = 5\n",
    "    y = 7\n",
    "    if x > 5 :\n",
    "        x += 1\n",
    "        \n",
    "        y =8"
   ]
  },
  {
   "cell_type": "markdown",
   "metadata": {},
   "source": [
    "위와 같은 코드를 붙여넣을때, 들여쓰기된 블록 안의 빈 줄을 IPython은 블록이 끝난 것으로 인식하기 때문에,\n",
    "그 다음줄이 실행되면 **IndentaitionError가 발생**"
   ]
  },
  {
   "cell_type": "markdown",
   "metadata": {},
   "source": [
    "**%paste** 혹은  ** %cpaste**  매직 함수를 이용해야한다."
   ]
  },
  {
   "cell_type": "markdown",
   "metadata": {},
   "source": [
    "* %paste는 클립보드에 있는 텍스트를 단일 블록으로 실행\n",
    "* %cpaste는 %paste와 유사하지만 코드를 붙여넣을 때 특수한 프롬프트 제공"
   ]
  },
  {
   "cell_type": "markdown",
   "metadata": {},
   "source": [
    "###3.1.5 키보드 단축키"
   ]
  },
  {
   "cell_type": "markdown",
   "metadata": {},
   "source": [
    "| 명령  | 설명 |\n",
    "| :------------ | :-----------: |\n",
    "| Ctrl+ P 또는 Ctrl+↑ | 명령어 히스토리를 역순으로 검색하기|\n",
    "| Ctrl+ N 또는 Ctrl+↓ | 명령어 히스토리에서 최근 순으로 검색하기      |\n",
    "|  Ctrl+ R    | readline 명령어 형식의 히스토리 검색 (부분 매칭) 하기  |\n",
    "|  Ctrl+ Shift+V    |클립보드에서 텍스트 붙여넣기 |\n",
    "|  Ctrl+C     | 현재 실행 중인 코드 중단하기|\n",
    "|  Ctrl+ A    | 커서를 줄의 처음으로 이동하기|\n",
    "|  Ctrl+   E  | 커서를 줄의 끝으로 이동ㅎ기|\n",
    "|  Ctrl+     K| 커서가 놓인 곳부터 줄의 끝까지 텍스트 삭제하기|\n",
    "|  Ctrl+U     | 현재 입력된 모든 텍스트 지우기|\n",
    "|  Ctrl+  F   | 커서를 앞으로 한 글자씩 이동하기|\n",
    "|  Ctrl+    B | 커서를 뒤로 한 글자씩 이동하기|\n",
    "|  Ctrl+     L|화면 지우기 |"
   ]
  },
  {
   "cell_type": "markdown",
   "metadata": {},
   "source": [
    "###3.1.6 예외와 트레이스백"
   ]
  },
  {
   "cell_type": "markdown",
   "metadata": {},
   "source": [
    "%run 명령을 사용하면 스크립트나 일반 파이썬 코드를 실행하는 중에  오류가 발생했을 때 전체 스택 정보를 위치별로 문맥 정보와 함께 볼 수 있다."
   ]
  },
  {
   "cell_type": "markdown",
   "metadata": {},
   "source": [
    "%xmode 매직 명령어를 이용해서 표시되는 문맥 정보의 양을 조절할 수 있다."
   ]
  },
  {
   "cell_type": "markdown",
   "metadata": {},
   "source": [
    " "
   ]
  },
  {
   "cell_type": "markdown",
   "metadata": {},
   "source": [
    "###3.1.7 매직 명령어"
   ]
  },
  {
   "cell_type": "markdown",
   "metadata": {},
   "source": [
    "**매직명령어** "
   ]
  },
  {
   "cell_type": "markdown",
   "metadata": {},
   "source": [
    "- 일반적인 작업이나 IPython 시스템 동작을 쉽게 제어할 수 있도록 설계된 특수한 명령어."
   ]
  },
  {
   "cell_type": "markdown",
   "metadata": {},
   "source": [
    "- 앞에 % 기호를 붙이는 형식."
   ]
  },
  {
   "cell_type": "markdown",
   "metadata": {},
   "source": [
    "- ? 를 이용해서 전체 옵션을 살펴볼 수 잇다."
   ]
  },
  {
   "cell_type": "markdown",
   "metadata": {},
   "source": [
    "- 같은 이름의 변수가 선언되지 않았으면 % 기호 없이도 사용가능 (%automagic을 이용해서 이 기능을  on/off 가능)"
   ]
  },
  {
   "cell_type": "code",
   "execution_count": 27,
   "metadata": {
    "collapsed": true
   },
   "outputs": [],
   "source": [
    "%run?"
   ]
  },
  {
   "cell_type": "markdown",
   "metadata": {},
   "source": [
    "| 명령어  | 설명 |\n",
    "| :------------ | :-----------: |\n",
    "| %quickref | IPython의 빠른 도움말 표시|\n",
    "| %magic| 모든 매직 함수에 대한 상세 도움말 출력|\n",
    "| %debug| 최근 예외 트레이스백의 하단에서 대화형 디버거로 진입  |\n",
    "|  %hist |명령어 입력(그리고 선택적으로 출력) 히스토리 출력 |\n",
    "| %pdb | 예외가 발생하면 자동적으로 디버거로 진입|\n",
    "|  %paste| 클립보드에서 들여쓰기가 된 채로 파이썬 코드 가져오기|\n",
    "|  %cpaste| 실행 파이썬 코드를 수동으로 붙여넣을 수 있는 프롬프트 표시 |\n",
    "|  %reset|대화형 네임스페이스에서 정의된 모든 변수와 이름을 삭제 |\n",
    "|  %page OBJECT|객체를 pager를 통해 보기 좋게 출력 |\n",
    "|  %run script.py|IPython 내에서 파이썬 스크립트 실행 |\n",
    "|  %prun statement| cProfile을 통해 statement를 실행하고 프로파일링 결과를 출력|\n",
    "|  %time statement|단일 statement 실행 시간을 출력 |\n",
    "|  %timeit statement|statement를 여러 차례 실행한 후 평균 실행 시간을 출력|\n",
    "|  %who, %who_ls, %whos|대화형 네임스페이스 내에서 정의된 변수를 다양한 방법으로 표시 |\n",
    "|  %xdel variable|variable을 삭제하고 IPython 내부적으로 해당 객체에 대한 모든 참조를 제거 |"
   ]
  },
  {
   "cell_type": "markdown",
   "metadata": {},
   "source": [
    "###3.1.8 Qt 기반의 GUI 콘솔"
   ]
  },
  {
   "cell_type": "markdown",
   "metadata": {},
   "source": [
    "**QT란?**"
   ]
  },
  {
   "cell_type": "markdown",
   "metadata": {},
   "source": [
    "- Cross-Platform GUI Roolkit으로서\n",
    "- UI기반의 어플리케이션 개발에 필요한 모든 API를 다양한 플랫폼상에서 지원이 가능 \n",
    "- GUI뿐만 아니라 네트워크, 그래픽, 데이터베이스, OpenGL등 다양한 분야에서 사용 가능한 방대한 API를 제공"
   ]
  },
  {
   "cell_type": "code",
   "execution_count": 28,
   "metadata": {
    "collapsed": false
   },
   "outputs": [
    {
     "name": "stderr",
     "output_type": "stream",
     "text": [
      "/home/goslim/Enthought/Canopy_64bit/User/lib/python2.7/site-packages/matplotlib/__init__.py:1039: UserWarning: Bad val \"QtAgg\" on line #38\n",
      "\t\"backend      : QtAgg\n",
      "\"\n",
      "\tin file \"/home/goslim/Enthought/Canopy_64bit/User/lib/python2.7/site-packages/matplotlib/mpl-data/matplotlibrc\"\n",
      "\tKey backend: Unrecognized backend string \"qtagg\": valid strings are [u'pgf', u'cairo', u'MacOSX', u'CocoaAgg', u'gdk', u'ps', u'GTKAgg', u'nbAgg', u'GTK', u'Qt5Agg', u'template', u'emf', u'GTK3Cairo', u'GTK3Agg', u'WX', u'Qt4Agg', u'TkAgg', u'agg', u'svg', u'GTKCairo', u'WXAgg', u'WebAgg', u'pdf']\n",
      "  (val, error_details, msg))\n"
     ]
    }
   ],
   "source": [
    "%matplotlib inline"
   ]
  },
  {
   "cell_type": "code",
   "execution_count": 29,
   "metadata": {
    "collapsed": true
   },
   "outputs": [],
   "source": [
    "import ssl\n",
    "\n",
    "ssl._create_default_https_context = ssl._create_unverified_context\n",
    "\n",
    "#ubuntu의 SSL에러를 잡기위해 추가한 코드"
   ]
  },
  {
   "cell_type": "code",
   "execution_count": 30,
   "metadata": {
    "collapsed": true
   },
   "outputs": [],
   "source": [
    "from pylab import *\n",
    "import urllib\n",
    "import urllib2\n",
    "import cStringIO\n",
    "from PIL import Image"
   ]
  },
  {
   "cell_type": "code",
   "execution_count": 31,
   "metadata": {
    "collapsed": false
   },
   "outputs": [],
   "source": [
    "pathUrl = 'https://raw.githubusercontent.com/pydata/pydata-book/master/ch03/stinkbug.png' "
   ]
  },
  {
   "cell_type": "code",
   "execution_count": 32,
   "metadata": {
    "collapsed": false
   },
   "outputs": [],
   "source": [
    "im = imread(urllib2.urlopen(pathUrl),format='png')"
   ]
  },
  {
   "cell_type": "code",
   "execution_count": 33,
   "metadata": {
    "collapsed": false
   },
   "outputs": [
    {
     "data": {
      "text/plain": [
       "<matplotlib.image.AxesImage at 0x7fb7cc2bc8d0>"
      ]
     },
     "execution_count": 33,
     "metadata": {},
     "output_type": "execute_result"
    },
    {
     "data": {
      "image/png": "[encoded data removed]",
      "text/plain": [
       "<matplotlib.figure.Figure at 0x7fb7d1905ed0>"
      ]
     },
     "metadata": {},
     "output_type": "display_data"
    }
   ],
   "source": [
    "imshow(im)"
   ]
  },
  {
   "cell_type": "code",
   "execution_count": 34,
   "metadata": {
    "collapsed": false
   },
   "outputs": [
    {
     "data": {
      "text/plain": [
       "<matplotlib.image.AxesImage at 0x7fb7ca67c490>"
      ]
     },
     "execution_count": 34,
     "metadata": {},
     "output_type": "execute_result"
    },
    {
     "data": {
      "image/png": "[encoded data removed]",
      "text/plain": [
       "<matplotlib.figure.Figure at 0x7fb7cc276590>"
      ]
     },
     "metadata": {},
     "output_type": "display_data"
    }
   ],
   "source": [
    "url='http://optipng.sourceforge.net/pngtech/img/lena.png'\n",
    "im2 = Image.open(cStringIO.StringIO(urllib.urlopen(url).read()))\n",
    "imshow(im2)"
   ]
  },
  {
   "cell_type": "markdown",
   "metadata": {},
   "source": [
    "##3.2 명령어 히스토리 사용하기"
   ]
  },
  {
   "cell_type": "markdown",
   "metadata": {},
   "source": [
    "###3.2.1 명령어 검색과 재사용"
   ]
  },
  {
   "cell_type": "markdown",
   "metadata": {},
   "source": [
    "- Ctrl+ P 또는 Ctrl+↑ 을 누르면 방금 입력한 명령어를 검색, 여러 번 누르면 계속해서 히스토르 검색\n",
    "\n",
    "- Ctrl+ N 또는 Ctrl+↓을 누르면  다시 돌아감\n",
    "\n",
    "- Ctrl+R 을 누르면 부분 순차 검색 가능, 입력줄에 검색하려는 몇 글자를 입력하면서 사용"
   ]
  },
  {
   "cell_type": "markdown",
   "metadata": {},
   "source": [
    "###3.2.2 입·출력 변수"
   ]
  },
  {
   "cell_type": "markdown",
   "metadata": {},
   "source": [
    "IPython은 입력한 내용과 출력된 결과물 둘 다 특수한 변수에 저장한다."
   ]
  },
  {
   "cell_type": "markdown",
   "metadata": {},
   "source": [
    "**출력 내용**   \n",
    "-  바로 이전결과 : _ \n",
    "-  그 이전결과    : __ \n",
    "-  _X (X는 출력 줄 번호)"
   ]
  },
  {
   "cell_type": "code",
   "execution_count": 35,
   "metadata": {
    "collapsed": false
   },
   "outputs": [
    {
     "data": {
      "text/plain": [
       "134217728"
      ]
     },
     "execution_count": 35,
     "metadata": {},
     "output_type": "execute_result"
    }
   ],
   "source": [
    "#예제\n",
    "2 ** 27"
   ]
  },
  {
   "cell_type": "code",
   "execution_count": 36,
   "metadata": {
    "collapsed": false
   },
   "outputs": [
    {
     "data": {
      "text/plain": [
       "134217728"
      ]
     },
     "execution_count": 36,
     "metadata": {},
     "output_type": "execute_result"
    }
   ],
   "source": [
    "_"
   ]
  },
  {
   "cell_type": "code",
   "execution_count": 37,
   "metadata": {
    "collapsed": false
   },
   "outputs": [
    {
     "data": {
      "text/plain": [
       "3"
      ]
     },
     "execution_count": 37,
     "metadata": {},
     "output_type": "execute_result"
    }
   ],
   "source": [
    "6/2"
   ]
  },
  {
   "cell_type": "code",
   "execution_count": 38,
   "metadata": {
    "collapsed": false
   },
   "outputs": [
    {
     "data": {
      "text/plain": [
       "134217728"
      ]
     },
     "execution_count": 38,
     "metadata": {},
     "output_type": "execute_result"
    }
   ],
   "source": [
    "___"
   ]
  },
  {
   "cell_type": "code",
   "execution_count": 39,
   "metadata": {
    "collapsed": false
   },
   "outputs": [
    {
     "data": {
      "text/plain": [
       "134217728"
      ]
     },
     "execution_count": 39,
     "metadata": {},
     "output_type": "execute_result"
    }
   ],
   "source": [
    "_36"
   ]
  },
  {
   "cell_type": "markdown",
   "metadata": {},
   "source": [
    "**입력 내용**\n",
    "- _iX (X는 입력 줄 번호)\n",
    "- exec 예약어를 사용해서 다시 실행 가능"
   ]
  },
  {
   "cell_type": "code",
   "execution_count": 40,
   "metadata": {
    "collapsed": false
   },
   "outputs": [
    {
     "data": {
      "text/plain": [
       "u'_'"
      ]
     },
     "execution_count": 40,
     "metadata": {},
     "output_type": "execute_result"
    }
   ],
   "source": [
    "_i36"
   ]
  },
  {
   "cell_type": "markdown",
   "metadata": {},
   "source": [
    "### 3.2.3 입·출력 기록하기"
   ]
  },
  {
   "cell_type": "code",
   "execution_count": null,
   "metadata": {
    "collapsed": true
   },
   "outputs": [],
   "source": []
  },
  {
   "cell_type": "markdown",
   "metadata": {},
   "source": [
    "| 명령  | 설명 |\n",
    "| :------------ | :-----------: |\n",
    "|%logstart|세션의 로그를 기록한다|\n",
    "|%logoff|일시적으로 로깅을 멈춘다|\n",
    "|%logon|로깅을 재시작한다|\n",
    "|%logstate|로깅시스템의 상태를 출력한다|\n",
    "|%logstop|완전하게 로그를 멈추고 로그파일을 닫는다|"
   ]
  },
  {
   "cell_type": "markdown",
   "metadata": {},
   "source": [
    "##3.3 운영체제와 함께 사용하기"
   ]
  },
  {
   "cell_type": "markdown",
   "metadata": {},
   "source": [
    "IPython을 종료하지 않고 윈도우나 유닉스 셸이 일반적인 명령행에서 할 수 있는 작업이 가능"
   ]
  },
  {
   "cell_type": "markdown",
   "metadata": {},
   "source": [
    "| 명령  | 설명 |\n",
    "| :------------ | :-----------: |\n",
    "|!cmd|시스템 셸에서 cmd 명령어를 실행한다.|\n",
    "|output = !cmd args|cmd 명령어를 실행하고 표준 출력결과를 ouput에 저장한다.|\n",
    "|%alias alias_name cmd|시스템(셸) 명령어에 대한 별칭을 정의한다.|\n",
    "|%bookmark|IPython의 디렉터리 북마크 시스템을 활용한다.|\n",
    "|%cd directory|시스템의 작업 디렉터리를 directory로 변경한다.|\n",
    "|%pwd|현재 시스템의 작업 디렉터리를 반환한다.|\n",
    "|%pushd directory|현재 디렉터리를 스택에 추가하고 새로운 디렉터리로 이동한다.|\n",
    "|%popd|스택에 저장된 디렉터리를 꺼내서 그 디렉터리로 이동한다.|\n",
    "|%dirs|현재 디렉터리 스택에 저장된 디렉터리 목록을 보여준다.|\n",
    "|%dhist|접근했던 디렉터리 히스토리를 출력한다.|\n",
    "|%env|시스템 환경 변수를 사전 타입으로 출력한다.|\n",
    "\n"
   ]
  },
  {
   "cell_type": "markdown",
   "metadata": {},
   "source": [
    "###3.3.1 셸 명령어와 별칭"
   ]
  },
  {
   "cell_type": "markdown",
   "metadata": {
    "collapsed": true
   },
   "source": [
    "- !로 시작하는 줄은 느낌표 다음에 있는 내용을 시스템에 셸에서 실행하라는 의미\n",
    "- !로 시작하는 표현식을 사용해서 변수에 대입할 수 있다. ( 예를들면 IP주소를 얻어 파이썬 변수에 대입)\n",
    "- !를 사용해서 현재 환경에 정의되어 있는 파이썬 값을 대체가능 (변수 이름 앞에 $를 붙이면된다.)"
   ]
  },
  {
   "cell_type": "code",
   "execution_count": 41,
   "metadata": {
    "collapsed": true
   },
   "outputs": [],
   "source": [
    "ip_info = !ifconfig eth0 | grep \"inet \""
   ]
  },
  {
   "cell_type": "code",
   "execution_count": 42,
   "metadata": {
    "collapsed": false
   },
   "outputs": [
    {
     "data": {
      "text/plain": [
       "'          inet addr:218.150.181.117  Bcast:218.150.181.255  Mask:255.255.255.0'"
      ]
     },
     "execution_count": 42,
     "metadata": {},
     "output_type": "execute_result"
    }
   ],
   "source": [
    "ip_info[0]"
   ]
  },
  {
   "cell_type": "code",
   "execution_count": 43,
   "metadata": {
    "collapsed": false
   },
   "outputs": [],
   "source": [
    "foo = 'test*'"
   ]
  },
  {
   "cell_type": "code",
   "execution_count": 44,
   "metadata": {
    "collapsed": false
   },
   "outputs": [
    {
     "name": "stdout",
     "output_type": "stream",
     "text": [
      "test.py  test1.jpg\r\n"
     ]
    }
   ],
   "source": [
    "!ls $foo"
   ]
  },
  {
   "cell_type": "markdown",
   "metadata": {},
   "source": [
    "%alias 매직 함수는 셸 명령어에 대한 사용자 단축키(별칭)를 정의"
   ]
  },
  {
   "cell_type": "code",
   "execution_count": 45,
   "metadata": {
    "collapsed": true
   },
   "outputs": [],
   "source": [
    "%alias ll ls -l"
   ]
  },
  {
   "cell_type": "code",
   "execution_count": 46,
   "metadata": {
    "collapsed": false
   },
   "outputs": [
    {
     "name": "stdout",
     "output_type": "stream",
     "text": [
      "합계 144\r\n",
      "drwxr-xr-x   2 root root 69632  7월  4 01:11 bin\r\n",
      "drwxr-xr-x   2 root root  4096  2월 19 04:36 games\r\n",
      "drwxr-xr-x  57 root root 16384  7월  4 01:10 include\r\n",
      "drwxr-xr-x 176 root root 20480  7월  4 01:12 lib\r\n",
      "drwxr-xr-x  11 root root  4096  5월  9 12:26 local\r\n",
      "drwxr-xr-x   2 root root 12288  7월  4 01:09 sbin\r\n",
      "drwxr-xr-x 328 root root 12288  7월  4 01:09 share\r\n",
      "drwxr-xr-x   8 root root  4096  6월  9 17:05 src\r\n"
     ]
    }
   ],
   "source": [
    "ll /usr"
   ]
  },
  {
   "cell_type": "markdown",
   "metadata": {},
   "source": [
    "여러 개의 명령어도 세미콜론으로 구분하여 한 번에 실행 가능"
   ]
  },
  {
   "cell_type": "code",
   "execution_count": 47,
   "metadata": {
    "collapsed": true
   },
   "outputs": [],
   "source": [
    "%alias test_alias (cd cd08; ls; cd ..)"
   ]
  },
  {
   "cell_type": "code",
   "execution_count": 48,
   "metadata": {
    "collapsed": false
   },
   "outputs": [
    {
     "name": "stdout",
     "output_type": "stream",
     "text": [
      "/bin/sh: 1: cd: can't cd to cd08\r\n",
      "Chapter_2.ipynb  aaaaaaa.py\t   ipython_log.py.001~\t   stinkbug.png\r\n",
      "Chapter_3.ipynb  aaaaaaa.pyc\t   ipython_log.pyc\t   test.py\r\n",
      "Readme.txt\t cprof_example.py  ipython_script_test.py  test1.jpg\r\n",
      "Untitled.ipynb\t ipython_bug.py    ipython_test_ch3.ipynb  ttt.py\r\n",
      "a.pyc\t\t ipython_log.py    prof_mod.py\t\t   untitled.txt\r\n"
     ]
    }
   ],
   "source": [
    "test_alias"
   ]
  },
  {
   "cell_type": "markdown",
   "metadata": {},
   "source": [
    "IPython은 세션이 종료됨과 동시에 정의해놓은 별칭을 잊음"
   ]
  },
  {
   "cell_type": "markdown",
   "metadata": {},
   "source": [
    "###3.3.2 디렉터리 북마크 시스템"
   ]
  },
  {
   "cell_type": "markdown",
   "metadata": {},
   "source": [
    "- 자주 사용하는 디렉터리에 대한 별칭을 저장해두고 쉽게 이동 가능\n",
    "\n",
    "      ex) %bookmark py /home/goslim/python_for_data_analysis\n",
    "\n",
    "- %bookmark에 -l 옵션을 주면 모든 북마크를 볼수 있다."
   ]
  },
  {
   "cell_type": "markdown",
   "metadata": {},
   "source": [
    "##3.4 소프트웨어 개발 도구"
   ]
  },
  {
   "cell_type": "markdown",
   "metadata": {},
   "source": [
    "###3.4.1 인터렉티브 디버거"
   ]
  },
  {
   "cell_type": "markdown",
   "metadata": {},
   "source": [
    "- 오류가 발생한 바로 그 시점이 코드를 디버깅하기에 가장 최적의 시점\n",
    "- 예외가 발생한 후에 %debug 명령어를 사용하면 사후처리 디버거가 실행되고 예외가 발생한 시점의 스택 프레임정보 제공"
   ]
  },
  {
   "cell_type": "markdown",
   "metadata": {},
   "source": [
    "- 디버거 안에서는 아무 파이썬 코드나 실행해볼 수도 있다.\n",
    "- 인터프리터 안에 유지되고 있는 모든 객체와 데이터를 살펴볼 수도 있다.\n",
    "- 디폴트로 오류가 발생한 가장아래 레벨에서부터 시작,  u,d를 눌러서 스택 트레이스 이동가능"
   ]
  },
  {
   "cell_type": "markdown",
   "metadata": {},
   "source": [
    " "
   ]
  },
  {
   "cell_type": "markdown",
   "metadata": {},
   "source": [
    "- %pdb 명령어를 실행하면 예외가 발생할 경우 IPython이 자동적으로 디버거를 실행\n",
    "- %run 명령에 -d 옵션을 주면 스크립트를 실행가지 전에 디버거를 먼저 실행, s를 누르면 스크립트로 진입"
   ]
  },
  {
   "cell_type": "markdown",
   "metadata": {
    "collapsed": true
   },
   "source": [
    "| 명령  | 설명 |\n",
    "| :------------ | :-----------: |\n",
    "|h(help)|명령어 목록을 보여준다.|\n",
    "|help command|command에 대한 문서를 보여준다.|\n",
    "|c(continue)|프로그램의 실행을 재개한다.|\n",
    "|q(quit)|더 이상 코드를 실행하지 않고 디버거를 종료한다.|\n",
    "|b(break) number|현재 파일의 number번 째 줄에 브레이크포인트를 설정한다.|\n",
    "|b path/to/file.py:number|지정한 파일의 number번 째 줄에 브레이크포인트를 설정한다.|\n",
    "|s(step)|함수 호출 안으로 진입한다.|\n",
    "|n(next)|현재 줄을 실행하고 같은 레벨의 다음 줄로 진행한다.|\n",
    "|u(up) /d(down)|함수 콜 스택(호출 정보)의 위/아래로 이동한다.|\n",
    "|a(args)|현재 함수의 인자를 보여준다.|\n",
    "|debug statement|statement 문장을 새로운 (재귀적) 디버거에서 실행한다.|\n",
    "|l(list) statement|현재 위치와 스택의 현재 레벨에 대한 문맥을 보여준다.|\n",
    "|w(where)|현재 위치에 대한 문맥과 함께 전체 스택 정보를 출력한다.|\n"
   ]
  },
  {
   "cell_type": "markdown",
   "metadata": {
    "collapsed": false
   },
   "source": [
    "###3.4.2  코드 시간 측정 : %time과 timeit"
   ]
  },
  {
   "cell_type": "markdown",
   "metadata": {},
   "source": [
    "%time은 한 문장을 실행하고 소요된 전체 실행 시간을 알려준다."
   ]
  },
  {
   "cell_type": "code",
   "execution_count": 49,
   "metadata": {
    "collapsed": false
   },
   "outputs": [
    {
     "name": "stdout",
     "output_type": "stream",
     "text": [
      "Ipy\n",
      "True\n",
      "True\n",
      "False\n"
     ]
    }
   ],
   "source": [
    "#StartsWith(String)    :  이 문자열 인스턴스의 시작 부분과 지정한 문자열이 일치하는지 여부를 확인합니다.\n",
    "a='Ipython'\n",
    "print a[:3]\n",
    "print a.startswith('I')\n",
    "print a.startswith('Ip')\n",
    "print a.startswith('k')"
   ]
  },
  {
   "cell_type": "code",
   "execution_count": 50,
   "metadata": {
    "collapsed": true
   },
   "outputs": [],
   "source": [
    "strings = ['foo', 'foobar', 'baz', 'quz', 'python', 'Guido van Rossum', 'scari']  *10000"
   ]
  },
  {
   "cell_type": "code",
   "execution_count": 51,
   "metadata": {
    "collapsed": false
   },
   "outputs": [
    {
     "name": "stdout",
     "output_type": "stream",
     "text": [
      "CPU times: user 37.3 ms, sys: 4.75 ms, total: 42.1 ms\n",
      "Wall time: 32.8 ms\n"
     ]
    }
   ],
   "source": [
    "%time method1 = [x for x in strings if x.startswith('foo')]"
   ]
  },
  {
   "cell_type": "code",
   "execution_count": 52,
   "metadata": {
    "collapsed": false
   },
   "outputs": [
    {
     "name": "stdout",
     "output_type": "stream",
     "text": [
      "CPU times: user 16.6 ms, sys: 4.69 ms, total: 21.3 ms\n",
      "Wall time: 14.7 ms\n"
     ]
    }
   ],
   "source": [
    "%time methos2 = [x for x in strings if x[:3] == 'foo']"
   ]
  },
  {
   "cell_type": "markdown",
   "metadata": {},
   "source": [
    "ㅡㅡㅡㅡㅡㅡㅡㅡㅡㅡㅡㅡㅡㅡㅡㅡㅡㅡㅡㅡㅡㅡㅡㅡㅡㅡㅡㅡㅡㅡㅡㅡㅡㅡㅡㅡㅡㅡㅡㅡㅡㅡㅡㅡㅡㅡㅡㅡㅡㅡㅡㅡㅡㅡ"
   ]
  },
  {
   "cell_type": "markdown",
   "metadata": {},
   "source": [
    "%timeit은 임의의 한 문장을 여러 번 실행해보고 상당히 정확한 평균 실행 시간을 구해준다."
   ]
  },
  {
   "cell_type": "code",
   "execution_count": 53,
   "metadata": {
    "collapsed": false,
    "scrolled": true
   },
   "outputs": [
    {
     "name": "stdout",
     "output_type": "stream",
     "text": [
      "100 loops, best of 3: 15.7 ms per loop\n"
     ]
    }
   ],
   "source": [
    "%timeit method1 = [x for x in strings if x.startswith('foo')]"
   ]
  },
  {
   "cell_type": "code",
   "execution_count": 54,
   "metadata": {
    "collapsed": false
   },
   "outputs": [
    {
     "name": "stdout",
     "output_type": "stream",
     "text": [
      "100 loops, best of 3: 6.05 ms per loop\n"
     ]
    }
   ],
   "source": [
    "%timeit method2 = [x for x in strings  if x[:3] == 'foo']"
   ]
  },
  {
   "cell_type": "code",
   "execution_count": 55,
   "metadata": {
    "collapsed": true
   },
   "outputs": [],
   "source": [
    "x = 'foobar'"
   ]
  },
  {
   "cell_type": "code",
   "execution_count": 56,
   "metadata": {
    "collapsed": true
   },
   "outputs": [],
   "source": [
    "y = 'foo'"
   ]
  },
  {
   "cell_type": "code",
   "execution_count": 57,
   "metadata": {
    "collapsed": false
   },
   "outputs": [
    {
     "name": "stdout",
     "output_type": "stream",
     "text": [
      "1000 loops, best of 3: 423 ns per loop\n"
     ]
    }
   ],
   "source": [
    "%timeit -n 1000 x.startswith(y)"
   ]
  },
  {
   "cell_type": "code",
   "execution_count": 58,
   "metadata": {
    "collapsed": false
   },
   "outputs": [
    {
     "name": "stdout",
     "output_type": "stream",
     "text": [
      "The slowest run took 22.62 times longer than the fastest. This could mean that an intermediate result is being cached \n",
      "10000000 loops, best of 3: 127 ns per loop\n"
     ]
    }
   ],
   "source": [
    "%timeit x[:3] == y"
   ]
  },
  {
   "cell_type": "code",
   "execution_count": 59,
   "metadata": {
    "collapsed": false
   },
   "outputs": [
    {
     "data": {
      "text/plain": [
       "0.2678401470184326"
      ]
     },
     "execution_count": 59,
     "metadata": {},
     "output_type": "execute_result"
    }
   ],
   "source": [
    "import timeit\n",
    "timeit.timeit(\"'foobar'.startswith('foo')\")"
   ]
  },
  {
   "cell_type": "code",
   "execution_count": null,
   "metadata": {
    "collapsed": true
   },
   "outputs": [],
   "source": []
  },
  {
   "cell_type": "markdown",
   "metadata": {},
   "source": [
    "###3.4.3 기본적인 프로파일링: %prun과 %run -p"
   ]
  },
  {
   "cell_type": "markdown",
   "metadata": {},
   "source": [
    "- 프로파일링 : 함수 호출의 주기와 빈도 등을 측정하는 동적 프로그램 분석의 한 형태.\n",
    "    - 파이썬 프로파일링 도구 : cProfile  ( 프로그램을 실행하면서 각 함수에서 소모된 시간을 기록)\n",
    "    - %prun은 cProfile에 사용하는 명령행 옵션을 그대로 받아서 .py 파일 대신 임의의 파이썬 문장을 프로파일링 해준다."
   ]
  },
  {
   "cell_type": "markdown",
   "metadata": {},
   "source": [
    "###3.4.4 함수의 각 줄마다 프로파일링하기"
   ]
  },
  {
   "cell_type": "markdown",
   "metadata": {},
   "source": [
    "%lprun : 하나 이상의 함수를 줄마다 프로파일링할 수 있는 매직함수"
   ]
  },
  {
   "cell_type": "code",
   "execution_count": 60,
   "metadata": {
    "collapsed": false
   },
   "outputs": [],
   "source": [
    "%run prof_mod.py"
   ]
  },
  {
   "cell_type": "code",
   "execution_count": 61,
   "metadata": {
    "collapsed": true
   },
   "outputs": [],
   "source": [
    "x = randn(3000,3000)"
   ]
  },
  {
   "cell_type": "code",
   "execution_count": 62,
   "metadata": {
    "collapsed": true
   },
   "outputs": [],
   "source": [
    "y = randn(3000,3000)"
   ]
  },
  {
   "cell_type": "code",
   "execution_count": 63,
   "metadata": {
    "collapsed": false
   },
   "outputs": [
    {
     "name": "stdout",
     "output_type": "stream",
     "text": [
      " "
     ]
    }
   ],
   "source": [
    "%prun add_and_sum(x,y)"
   ]
  },
  {
   "cell_type": "markdown",
   "metadata": {},
   "source": [
    "##3.5 IPython HTML 노트북"
   ]
  },
  {
   "cell_type": "markdown",
   "metadata": {},
   "source": [
    "- 웹 기술에 기반한 컴퓨터를 사용한 대화형 문서 양식\n",
    "- 대화형 컴퓨팅에 편리한 도구일 뿐만 아니라 연구와 교육을 위해 재사용이 가능한 이상적인 매체"
   ]
  },
  {
   "cell_type": "markdown",
   "metadata": {},
   "source": [
    "##3.6 IPython을 사용한 제품 개발을 위한 팁"
   ]
  },
  {
   "cell_type": "markdown",
   "metadata": {},
   "source": [
    "### 모듈 의존성 리로딩하기"
   ]
  },
  {
   "cell_type": "markdown",
   "metadata": {},
   "source": [
    "IPython에서 대화형 코드 개발에 있어 잠재적인 어려움은 변경한 다른 모듈에 대한 의존성을 가지는 스크립트를 %run으로 실행했을 때 겪게 된다."
   ]
  },
  {
   "cell_type": "markdown",
   "metadata": {},
   "source": [
    "이런문제에 대응하기 위한 몇가지 옵션이 있는데, 아래는 파이썬의 내장 reload 함수를 이용할수 있다."
   ]
  },
  {
   "cell_type": "code",
   "execution_count": null,
   "metadata": {
    "collapsed": true
   },
   "outputs": [],
   "source": []
  }
 ],
 "metadata": {
  "kernelspec": {
   "display_name": "Python 2",
   "language": "python",
   "name": "python2"
  },
  "language_info": {
   "codemirror_mode": {
    "name": "ipython",
    "version": 2
   },
   "file_extension": ".py",
   "mimetype": "text/x-python",
   "name": "python",
   "nbconvert_exporter": "python",
   "pygments_lexer": "ipython2",
   "version": "2.7.9"
  }
 },
 "nbformat": 4,
 "nbformat_minor": 0
}
